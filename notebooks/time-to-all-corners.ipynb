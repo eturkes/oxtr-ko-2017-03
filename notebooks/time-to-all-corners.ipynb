{
 "cells": [
  {
   "cell_type": "code",
   "execution_count": null,
   "metadata": {
    "collapsed": true
   },
   "outputs": [],
   "source": [
    "#!/usr/bin/env python3\n",
    "# -*- coding: utf-8 -*\n",
    "\n",
    "import common\n",
    "import statistics\n",
    "import matplotlib.pyplot as plt\n",
    "import numpy as np\n",
    "\n",
    "data, start1, end1, start2, end2 = common.load_data(\\\n",
    "    '../data/comp+old-behav-flex/2017-03-20 11.02.07.zip', \\\n",
    "    '../data/comp+old-behav-flex/2017-03-20 19.58.27.zip', \\\n",
    "    '../data/comp+old-behav-flex/2017-03-21 09.53.27.zip', \\\n",
    "    phase1='Day 1', phase2='Day 2')\n",
    "\n",
    "start = {'start1': start1, 'start2': start2}\n",
    "end = {'end1': end1, 'end2': end2}\n",
    "dataSets = ['Day 1', 'Day 2']\n",
    "\n",
    "for i in range(1, 3):\n",
    "    startStr = 'start' + str(i)\n",
    "    endStr = 'end' + str(i)\n",
    "    \n",
    "    cornersByMouse = dict()\n",
    "    \n",
    "    visits = data.getVisits(start=start[startStr], end=end[endStr])\n",
    "    for j in range(1, len(visits)):\n",
    "        corners = dict()\n",
    "        \n",
    "        if str(visits[j].Animal) != '19 WT' \\\n",
    "            and str(visits[j].Animal) != '13 KO':\n",
    "            if str(visits[j].Animal) not in cornersByMouse:\n",
    "                cornersByMouse[str(visits[j].Animal)] = corners\n",
    "                \n",
    "            if visits[j].Corner == 1:\n",
    "                cornersByMouse[str(visits[j].Animal)][0] = 1\n",
    "                    if \n",
    "            if visits[j].Corner == 2:\n",
    "                cornersByMouse[str(visits[j].Animal)][1] = 1\n",
    "            if visits[j].Corner == 3:\n",
    "                cornersByMouse[str(visits[j].Animal)][2] = 1\n",
    "            if visits[j].Corner == 4:\n",
    "                cornersByMouse[str(visits[j].Animal)][3] = 1\n",
    "                \n",
    "            if len(cornersByMouse[str(visits[j].Animal)]) == 4:\n",
    "                tdelta = visits[j].Start - start[startStr]\n",
    "                cornersByMouse[str(visits[j].Animal)]['time'] = \\\n",
    "                    tdelta.total_seconds()\n",
    "                               \n",
    "    if i == 1:\n",
    "        cornersByMouse1 = cornersByMouse\n",
    "    else:\n",
    "        cornersByMouse2 = cornersByMouse"
   ]
  }
 ],
 "metadata": {
  "kernelspec": {
   "display_name": "Python 3",
   "language": "python",
   "name": "python3"
  },
  "language_info": {
   "codemirror_mode": {
    "name": "ipython",
    "version": 3
   },
   "file_extension": ".py",
   "mimetype": "text/x-python",
   "name": "python",
   "nbconvert_exporter": "python",
   "pygments_lexer": "ipython3",
   "version": "3.5.4"
  }
 },
 "nbformat": 4,
 "nbformat_minor": 2
}
