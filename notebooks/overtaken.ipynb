{
 "cells": [
  {
   "cell_type": "code",
   "execution_count": null,
   "metadata": {
    "collapsed": true
   },
   "outputs": [],
   "source": [
    "#!/usr/bin/env python3\n",
    "# -*- coding: utf-8 -*\n",
    "\n",
    "import common\n",
    "import statistics\n",
    "import matplotlib.pyplot as plt\n",
    "import numpy as np\n",
    "\n",
    "data, start1, end1, start2, end2 = common.load_data(\\\n",
    "    '../data/comp+old-behav-flex/2017-03-20 11.02.07.zip', \\\n",
    "    '../data/comp+old-behav-flex/2017-03-20 19.58.27.zip', \\\n",
    "    '../data/comp+old-behav-flex/2017-03-21 09.53.27.zip', \\\n",
    "    phase1='Day 1', phase2='Day 2')\n",
    "\n",
    "start = {'start1': start1, 'start2': start2}\n",
    "end = {'end1': end1, 'end2': end2}\n",
    "dataSets = ['Day 1', 'Day 2']\n",
    "\n",
    "for i in range(1, 3):\n",
    "    startStr = 'start' + str(i)\n",
    "    endStr = 'end' + str(i)\n",
    "    \n",
    "    overtaken = dict()\n",
    "    \n",
    "    visits = data.getVisits(start=start[startStr], end=end[endStr])\n",
    "    for j in range(1, len(visits)):\n",
    "        overtake = {'occurances': 0}\n",
    "        \n",
    "        tdelta = visits[j].Start - visits[j-1].End\n",
    "        if tdelta.total_seconds() < 5:\n",
    "            \n",
    "            if str(visits[j-1].Animal) != '19 WT' \\\n",
    "            and str(visits[j-1].Animal) != '13 KO':\n",
    "                if str(visits[j-1].Animal) not in overtaken:\n",
    "                    overtaken[str(visits[j-1].Animal)] = overtake\n",
    "                \n",
    "                overtaken[str(visits[j-1].Animal)]['occurances'] = \\\n",
    "                    overtaken[str(visits[j-1].Animal)]['occurances'] + 1\n",
    "                \n",
    "                if str(visits[j].Animal) not in \\\n",
    "                    overtaken[str(visits[j-1].Animal)]:\n",
    "                    overtaken[str(visits[j-1].Animal)][str(visits[j].Animal)] \\\n",
    "                        = 1\n",
    "                else:\n",
    "                    overtaken[str(visits[j-1].Animal)][str(visits[j].Animal)] \\\n",
    "                    = overtaken[str(visits[j-1].Animal)][str(visits[j].Animal)]\\\n",
    "                        + 1 \n",
    "    \n",
    "    if i == 1:\n",
    "        overtaken1 = overtaken\n",
    "    else:\n",
    "        overtaken2 = overtaken"
   ]
  }
 ],
 "metadata": {
  "kernelspec": {
   "display_name": "Python 3",
   "language": "python",
   "name": "python3"
  },
  "language_info": {
   "codemirror_mode": {
    "name": "ipython",
    "version": 3
   },
   "file_extension": ".py",
   "mimetype": "text/x-python",
   "name": "python",
   "nbconvert_exporter": "python",
   "pygments_lexer": "ipython3",
   "version": "3.5.4"
  }
 },
 "nbformat": 4,
 "nbformat_minor": 2
}
